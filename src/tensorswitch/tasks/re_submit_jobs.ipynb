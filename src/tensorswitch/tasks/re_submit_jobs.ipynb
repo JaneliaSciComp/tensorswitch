{
 "cells": [
  {
   "cell_type": "code",
   "execution_count": null,
   "id": "86e81d57-fd89-4c3d-bb2e-ea2d1941e33d",
   "metadata": {},
   "outputs": [],
   "source": [
    "import sys\n",
    "import subprocess"
   ]
  },
  {
   "cell_type": "code",
   "execution_count": null,
   "id": "420e57d6-a4d0-4147-b7f9-aab1936dd54d",
   "metadata": {},
   "outputs": [],
   "source": [
    "CHUNKS_PER_Z = 8064"
   ]
  },
  {
   "cell_type": "code",
   "execution_count": null,
   "id": "d65759b6-03e4-470c-b2e2-e4b2b4fc61e2",
   "metadata": {},
   "outputs": [],
   "source": [
    "def z_to_chunk(z):\n",
    "    return z * CHUNKS_PER_Z"
   ]
  },
  {
   "cell_type": "code",
   "execution_count": null,
   "id": "91ca652d-b3a7-4a41-bd4d-aef673306a22",
   "metadata": {},
   "outputs": [],
   "source": [
    "def resubmit(job_id, start_z, end_z):\n",
    "    start_idx = z_to_chunk(start_z)\n",
    "    stop_idx = z_to_chunk(end_z + 1)\n",
    "\n",
    "    command = [\n",
    "        'bsub',\n",
    "        '-J', f'tiff_to_zarr3_s0_vol{job_id}',\n",
    "        '-n', '25',\n",
    "        '-W', '24:00',\n",
    "        '-P', 'mengwang',\n",
    "        '-g', '/scicompsoft/chend/tensorstore',\n",
    "        '-o', f'/groups/scicompsoft/home/chend/temp/downsample_script/tensorswitch/output/output__vol{job_id}_%J.log',\n",
    "        '-e', f'/groups/scicompsoft/home/chend/temp/downsample_script/tensorswitch/output/error_vol{job_id}_%J.log',\n",
    "        '/groups/scicompsoft/home/chend/temp/downsample_script/tensorswitch/.pixi/envs/default/bin/python',\n",
    "        '-m', 'tensorswitch',\n",
    "        '--task', 'tiff_to_zarr3_s0',\n",
    "        '--base_path', '/nrs/mengwang/jrc_celegans_lipl-4_Ariadne_Zarr/Dataset_B_lipl-4Tg/Dataset_B_nuclei_2/ulula2_nuclei',\n",
    "        '--output_path', '/nrs/mengwang/jrc_celegans_lipl-4_Ariadne_Zarr/Dataset_B_lipl-4Tg/Dataset_B_nuclei_2/ulula2_nuclei/multiscale/s0',\n",
    "        '--level', '0',\n",
    "        '--downsample', '1',\n",
    "        '--use_shard', '0',\n",
    "        '--memory_limit', '50',\n",
    "        '--start_idx', str(start_idx),\n",
    "        '--stop_idx', str(stop_idx)\n",
    "    ]\n",
    "\n",
    "    print(f\"Submitting Job {job_id}: z={start_z}–{end_z}, chunks={start_idx}–{stop_idx}\")\n",
    "    subprocess.run(command)"
   ]
  },
  {
   "cell_type": "code",
   "execution_count": null,
   "id": "1932d529-ddaf-4f85-b964-7aa6e30cf32a",
   "metadata": {},
   "outputs": [],
   "source": [
    "# Resubmit job by chunks start and stop indexs\n",
    "def resubmit_by_chunks(job_id, start_chunk, stop_chunk):\n",
    "    start_z = start_chunk // CHUNKS_PER_Z\n",
    "    stop_z = (stop_chunk - 1) // CHUNKS_PER_Z\n",
    "    resubmit(job_id, start_z, stop_z)\n",
    "\n",
    "# ex: 6h--start_idx 2411136 --stop_idx 2443392 .....Queued 31744 chunk writes up to 2442880...\n",
    "resubmit_by_chunks(\"retry_6h\", 2442880, 2443392)"
   ]
  },
  {
   "cell_type": "code",
   "execution_count": null,
   "id": "a8778b0c-5c69-4efe-9787-1798d128769b",
   "metadata": {},
   "outputs": [],
   "source": [
    "# Resubmit only single job with known folders (z-slices)\n",
    "resubmit(\"1a\", 8, 9)"
   ]
  },
  {
   "cell_type": "code",
   "execution_count": null,
   "id": "5fa2ce00-4367-4a4b-b6ff-19cdb1e5035d",
   "metadata": {},
   "outputs": [],
   "source": [
    "# Resubmit a series of jobs with known start and end folders with set chunk size range\n",
    "# Starting from z=10 to z=49, in steps of 5, so 10-14, 15-19, etc\n",
    "# start from 'b', since 'a' was already used\n",
    "from string import ascii_lowercase\n",
    "\n",
    "# Starting from z=10 to z=49, in steps of 5\n",
    "z_start = 10\n",
    "z_end = 49\n",
    "chunk_size = 5\n",
    "\n",
    "for i, z in enumerate(range(z_start, z_end + 1, chunk_size)):\n",
    "    job_suffix = ascii_lowercase[i + 1]  # start from 'b', since 'a' was already used\n",
    "    job_name = f\"1{job_suffix}\"\n",
    "    start_z = z\n",
    "    stop_z = min(z + chunk_size - 1, z_end)\n",
    "    resubmit(job_name, start_z, stop_z)"
   ]
  },
  {
   "cell_type": "code",
   "execution_count": null,
   "id": "212a4ca4-ec97-4c4f-9c1c-61a83e3a21c7",
   "metadata": {},
   "outputs": [],
   "source": [
    "# Resubmit a series of jobs with known start and end folders with set chunk size range\n",
    "# Starting from z=60 to z=100, in steps of 5, so 60-64, 65-69, etc\n",
    "# start from 'a'\n",
    "from string import ascii_lowercase\n",
    "\n",
    "z_start = 60\n",
    "z_end = 100\n",
    "chunk_size = 5\n",
    "\n",
    "for i, z in enumerate(range(z_start, z_end + 1, chunk_size)):\n",
    "    job_suffix = ascii_lowercase[i]  # start from 'a'\n",
    "    job_name = f\"2{job_suffix}\"\n",
    "    start_z = z\n",
    "    stop_z = min(z + chunk_size - 1, z_end)\n",
    "    resubmit(job_name, start_z, stop_z)"
   ]
  },
  {
   "cell_type": "code",
   "execution_count": null,
   "id": "5d2f3385-18b0-4460-a1bc-9f3d8f7e1ede",
   "metadata": {},
   "outputs": [],
   "source": [
    "from string import ascii_lowercase\n",
    "\n",
    "z_start = 112\n",
    "z_end = 150\n",
    "chunk_size = 5\n",
    "\n",
    "for i, z in enumerate(range(z_start, z_end + 1, chunk_size)):\n",
    "    job_suffix = ascii_lowercase[i]  # start from 'a'\n",
    "    job_name = f\"3{job_suffix}\"\n",
    "    start_z = z\n",
    "    stop_z = min(z + chunk_size - 1, z_end)\n",
    "    resubmit(job_name, start_z, stop_z)"
   ]
  },
  {
   "cell_type": "code",
   "execution_count": null,
   "id": "8fad913a-b9b0-4abd-9fc8-a84ea87bdf79",
   "metadata": {},
   "outputs": [],
   "source": [
    "from string import ascii_lowercase\n",
    "\n",
    "z_start = 162\n",
    "z_end = 201\n",
    "chunk_size = 5\n",
    "\n",
    "for i, z in enumerate(range(z_start, z_end + 1, chunk_size)):\n",
    "    job_suffix = ascii_lowercase[i]  # start from 'a'\n",
    "    job_name = f\"4{job_suffix}\"\n",
    "    start_z = z\n",
    "    stop_z = min(z + chunk_size - 1, z_end)\n",
    "    resubmit(job_name, start_z, stop_z)"
   ]
  },
  {
   "cell_type": "code",
   "execution_count": null,
   "id": "5c60f557-86e7-45d8-b397-89fe73d42d00",
   "metadata": {},
   "outputs": [],
   "source": [
    "from string import ascii_lowercase\n",
    "\n",
    "z_start = 213\n",
    "z_end = 252\n",
    "chunk_size = 5\n",
    "\n",
    "for i, z in enumerate(range(z_start, z_end + 1, chunk_size)):\n",
    "    job_suffix = ascii_lowercase[i]  # start from 'a'\n",
    "    job_name = f\"5{job_suffix}\"\n",
    "    start_z = z\n",
    "    stop_z = min(z + chunk_size - 1, z_end)\n",
    "    resubmit(job_name, start_z, stop_z)"
   ]
  },
  {
   "cell_type": "code",
   "execution_count": null,
   "id": "4d6af109-cd7b-4f52-a11a-c05a72929c5d",
   "metadata": {},
   "outputs": [],
   "source": [
    "from string import ascii_lowercase\n",
    "\n",
    "z_start = 264\n",
    "z_end = 302\n",
    "chunk_size = 5\n",
    "\n",
    "for i, z in enumerate(range(z_start, z_end + 1, chunk_size)):\n",
    "    job_suffix = ascii_lowercase[i]  # start from 'a'\n",
    "    job_name = f\"6{job_suffix}\"\n",
    "    start_z = z\n",
    "    stop_z = min(z + chunk_size - 1, z_end)\n",
    "    resubmit(job_name, start_z, stop_z)"
   ]
  },
  {
   "cell_type": "code",
   "execution_count": null,
   "id": "3dd9a6a9-2460-4387-96fc-35ab449cb4c7",
   "metadata": {},
   "outputs": [],
   "source": [
    "from string import ascii_lowercase\n",
    "\n",
    "z_start = 314\n",
    "z_end = 353\n",
    "chunk_size = 5\n",
    "\n",
    "for i, z in enumerate(range(z_start, z_end + 1, chunk_size)):\n",
    "    job_suffix = ascii_lowercase[i]  # start from 'a'\n",
    "    job_name = f\"7{job_suffix}\"\n",
    "    start_z = z\n",
    "    stop_z = min(z + chunk_size - 1, z_end)\n",
    "    resubmit(job_name, start_z, stop_z)"
   ]
  },
  {
   "cell_type": "code",
   "execution_count": null,
   "id": "d82c8afd-84d5-44ba-840a-b091ea61ceca",
   "metadata": {},
   "outputs": [],
   "source": [
    "from string import ascii_lowercase\n",
    "\n",
    "z_start = 365\n",
    "z_end = 405\n",
    "chunk_size = 5\n",
    "\n",
    "for i, z in enumerate(range(z_start, z_end + 1, chunk_size)):\n",
    "    job_suffix = ascii_lowercase[i]  # start from 'a'\n",
    "    job_name = f\"8{job_suffix}\"\n",
    "    start_z = z\n",
    "    stop_z = min(z + chunk_size - 1, z_end)\n",
    "    resubmit(job_name, start_z, stop_z)"
   ]
  },
  {
   "cell_type": "code",
   "execution_count": null,
   "id": "33bdfcc3-a814-44f1-b3dc-708f6485af72",
   "metadata": {},
   "outputs": [],
   "source": []
  },
  {
   "cell_type": "code",
   "execution_count": null,
   "id": "18806624-a31a-4b48-8ff7-ecad2f2b51d4",
   "metadata": {},
   "outputs": [],
   "source": []
  },
  {
   "cell_type": "markdown",
   "id": "2e9dba61-d309-4465-8c76-b7d1f9acc57b",
   "metadata": {},
   "source": [
    "0-8: within 8 up to 58\n",
    "50-60: within 60 up to 44\n",
    "101-112: within 112 up to 26\n",
    "151-162: within 162 up to 83\n",
    "202-213: within 213 up to 51\n",
    "253-264: within 264 up to 11\n",
    "303-314: within 314 up to 75\n",
    "354-365: within 365 up to 35\n",
    "\n",
    "| Z-slice | Start Chunk Index                |\n",
    "| ------- | -------------------------------- |\n",
    "| 8       | 64,512                           |\n",
    "| 60      | 483,840                          |\n",
    "| 112     | 903,168                          |\n",
    "| 162     | 1,306,368                        |\n",
    "| 213     | 1,717,632                        |\n",
    "| 264     | 2,128,896                        |\n",
    "| 314     | 2,532,096                        |\n",
    "| 365     | 2,943,360                        |\n",
    "\n",
    "(tensorswitch) [jupyterhub - chend@e06u07]~/temp/downsample_script/tensorswitch>python z_to_chunk_index.py /nrs/mengwang/jrc_celegans_lipl-4_Ariadne_Zarr/Dataset_B_lipl-4Tg/Dataset_B_nuclei_2/ulula2_nuclei 8\n",
    "Volume shape: (z=25860, y=6124, x=5328)\n",
    "Chunks per z-slice: 8064\n",
    "Z-slice 8 → Start chunk index: 64512\n",
    "(tensorswitch) [jupyterhub - chend@e06u07]~/temp/downsample_script/tensorswitch>python z_to_chunk_index.py /nrs/mengwang/jrc_celegans_lipl-4_Ariadne_Zarr/Dataset_B_lipl-4Tg/Dataset_B_nuclei_2/ulula2_nuclei 60\n",
    "Volume shape: (z=25860, y=6124, x=5328)\n",
    "Chunks per z-slice: 8064\n",
    "Z-slice 60 → Start chunk index: 483840\n",
    "(tensorswitch) [jupyterhub - chend@e06u07]~/temp/downsample_script/tensorswitch>python z_to_chunk_index.py /nrs/mengwang/jrc_celegans_lipl-4_Ariadne_Zarr/Dataset_B_lipl-4Tg/Dataset_B_nuclei_2/ulula2_nuclei 112\n",
    "Volume shape: (z=25860, y=6124, x=5328)\n",
    "Chunks per z-slice: 8064\n",
    "Z-slice 112 → Start chunk index: 903168\n",
    "(tensorswitch) [jupyterhub - chend@e06u07]~/temp/downsample_script/tensorswitch>python z_to_chunk_index.py /nrs/mengwang/jrc_celegans_lipl-4_Ariadne_Zarr/Dataset_B_lipl-4Tg/Dataset_B_nuclei_2/ulula2_nuclei 162\n",
    "Volume shape: (z=25860, y=6124, x=5328)\n",
    "Chunks per z-slice: 8064\n",
    "Z-slice 162 → Start chunk index: 1306368\n",
    "(tensorswitch) [jupyterhub - chend@e06u07]~/temp/downsample_script/tensorswitch>python z_to_chunk_index.py /nrs/mengwang/jrc_celegans_lipl-4_Ariadne_Zarr/Dataset_B_lipl-4Tg/Dataset_B_nuclei_2/ulula2_nuclei 213\n",
    "Volume shape: (z=25860, y=6124, x=5328)\n",
    "Chunks per z-slice: 8064\n",
    "Z-slice 213 → Start chunk index: 1717632\n",
    "(tensorswitch) [jupyterhub - chend@e06u07]~/temp/downsample_script/tensorswitch>python z_to_chunk_index.py /nrs/mengwang/jrc_celegans_lipl-4_Ariadne_Zarr/Dataset_B_lipl-4Tg/Dataset_B_nuclei_2/ulula2_nuclei 264\n",
    "Volume shape: (z=25860, y=6124, x=5328)\n",
    "Chunks per z-slice: 8064\n",
    "Z-slice 264 → Start chunk index: 2128896\n",
    "(tensorswitch) [jupyterhub - chend@e06u07]~/temp/downsample_script/tensorswitch>python z_to_chunk_index.py /nrs/mengwang/jrc_celegans_lipl-4_Ariadne_Zarr/Dataset_B_lipl-4Tg/Dataset_B_nuclei_2/ulula2_nuclei 314\n",
    "Volume shape: (z=25860, y=6124, x=5328)\n",
    "Chunks per z-slice: 8064\n",
    "Z-slice 314 → Start chunk index: 2532096\n",
    "(tensorswitch) [jupyterhub - chend@e06u07]~/temp/downsample_script/tensorswitch>python z_to_chunk_index.py /nrs/mengwang/jrc_celegans_lipl-4_Ariadne_Zarr/Dataset_B_lipl-4Tg/Dataset_B_nuclei_2/ulula2_nuclei 365\n",
    "Volume shape: (z=25860, y=6124, x=5328)\n",
    "Chunks per z-slice: 8064\n",
    "Z-slice 365 → Start chunk index: 2943360"
   ]
  },
  {
   "cell_type": "code",
   "execution_count": null,
   "id": "fe99c972-8dc3-4f10-af52-51741d043890",
   "metadata": {},
   "outputs": [],
   "source": [
    "def resubmit(job_number, start_idx, stop_idx):\n",
    "    command = ['bsub',\n",
    "     '-J',\n",
    "     f'tiff_to_zarr3_s0_vol{job_number}',\n",
    "     '-n',\n",
    "     '24',\n",
    "     '-W',\n",
    "     '24:00',\n",
    "     '-P',\n",
    "     'mengwang',\n",
    "     '-g',\n",
    "     '/scicompsoft/chend/tensorstore',\n",
    "     '-o',\n",
    "     f'/groups/scicompsoft/home/chend/temp/downsample_script/tensorswitch/output/output__vol{job_number}_%J.log',\n",
    "     '-e',\n",
    "     f'/groups/scicompsoft/home/chend/temp/downsample_script/tensorswitch/output/error_vol{job_number}_%J.log',\n",
    "     '/groups/scicompsoft/home/chend/temp/downsample_script/tensorswitch/.pixi/envs/default/bin/python',\n",
    "     '-m',\n",
    "     'tensorswitch',\n",
    "     '--task',\n",
    "     'tiff_to_zarr3_s0',\n",
    "     '--base_path',\n",
    "     '/nrs/mengwang/jrc_celegans_lipl-4_Ariadne_Zarr/Dataset_B_lipl-4Tg/Dataset_B_nuclei_2/ulula2_nuclei',\n",
    "     '--output_path',\n",
    "     '/nrs/mengwang/jrc_celegans_lipl-4_Ariadne_Zarr/Dataset_B_lipl-4Tg/Dataset_B_nuclei_2/ulula2_nuclei/multiscale/s0',\n",
    "     '--level',\n",
    "     '0',\n",
    "     '--downsample',\n",
    "     '1',\n",
    "     '--use_shard',\n",
    "     '0',\n",
    "     '--memory_limit',\n",
    "     '50',\n",
    "     '--start_idx',\n",
    "     str(start_idx),\n",
    "     '--stop_idx',\n",
    "     str(stop_idx)\n",
    "    ]\n",
    "    print(command)\n",
    "    subprocess.run(command)"
   ]
  },
  {
   "cell_type": "code",
   "execution_count": null,
   "id": "a2cad350-1809-417d-9d04-4edd560c3f08",
   "metadata": {},
   "outputs": [],
   "source": [
    "resubmit(2a,483840,516096)"
   ]
  },
  {
   "cell_type": "code",
   "execution_count": null,
   "id": "69f45df5-0e14-4c56-bd0b-e0aacdf20630",
   "metadata": {},
   "outputs": [],
   "source": [
    "64512 - 385452"
   ]
  }
 ],
 "metadata": {
  "kernelspec": {
   "display_name": "TensorSwitch",
   "language": "python",
   "name": "tensorswitch"
  },
  "language_info": {
   "codemirror_mode": {
    "name": "ipython",
    "version": 3
   },
   "file_extension": ".py",
   "mimetype": "text/x-python",
   "name": "python",
   "nbconvert_exporter": "python",
   "pygments_lexer": "ipython3",
   "version": "3.12.11"
  }
 },
 "nbformat": 4,
 "nbformat_minor": 5
}
