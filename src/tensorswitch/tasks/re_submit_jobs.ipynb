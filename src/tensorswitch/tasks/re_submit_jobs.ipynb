{
 "cells": [
  {
   "cell_type": "code",
   "execution_count": 8,
   "id": "86e81d57-fd89-4c3d-bb2e-ea2d1941e33d",
   "metadata": {},
   "outputs": [],
   "source": [
    "import sys\n",
    "import subprocess"
   ]
  },
  {
   "cell_type": "code",
   "execution_count": 9,
   "id": "420e57d6-a4d0-4147-b7f9-aab1936dd54d",
   "metadata": {},
   "outputs": [],
   "source": [
    "CHUNKS_PER_Z = 8064"
   ]
  },
  {
   "cell_type": "code",
   "execution_count": 10,
   "id": "d65759b6-03e4-470c-b2e2-e4b2b4fc61e2",
   "metadata": {},
   "outputs": [],
   "source": [
    "def z_to_chunk(z):\n",
    "    return z * CHUNKS_PER_Z"
   ]
  },
  {
   "cell_type": "code",
   "execution_count": 11,
   "id": "91ca652d-b3a7-4a41-bd4d-aef673306a22",
   "metadata": {},
   "outputs": [],
   "source": [
    "def resubmit(job_id, start_z, end_z):\n",
    "    start_idx = z_to_chunk(start_z)\n",
    "    stop_idx = z_to_chunk(end_z + 1)\n",
    "\n",
    "    command = [\n",
    "        'bsub',\n",
    "        '-J', f'tiff_to_zarr3_s0_vol{job_id}',\n",
    "        '-n', '25',\n",
    "        '-W', '24:00',\n",
    "        '-P', 'mengwang',\n",
    "        '-g', '/scicompsoft/chend/tensorstore',\n",
    "        '-o', f'/groups/scicompsoft/home/chend/temp/downsample_script/tensorswitch/output/output__vol{job_id}_%J.log',\n",
    "        '-e', f'/groups/scicompsoft/home/chend/temp/downsample_script/tensorswitch/output/error_vol{job_id}_%J.log',\n",
    "        '/groups/scicompsoft/home/chend/temp/downsample_script/tensorswitch/.pixi/envs/default/bin/python',\n",
    "        '-m', 'tensorswitch',\n",
    "        '--task', 'tiff_to_zarr3_s0',\n",
    "        '--base_path', '/nrs/mengwang/jrc_celegans_lipl-4_Ariadne_Zarr/Dataset_B_lipl-4Tg/Dataset_B_nuclei_2/ulula2_nuclei',\n",
    "        '--output_path', '/nrs/mengwang/jrc_celegans_lipl-4_Ariadne_Zarr/Dataset_B_lipl-4Tg/Dataset_B_nuclei_2/ulula2_nuclei/multiscale/s0',\n",
    "        '--level', '0',\n",
    "        '--downsample', '1',\n",
    "        '--use_shard', '0',\n",
    "        '--memory_limit', '50',\n",
    "        '--start_idx', str(start_idx),\n",
    "        '--stop_idx', str(stop_idx)\n",
    "    ]\n",
    "\n",
    "    print(f\"Submitting Job {job_id}: z={start_z}–{end_z}, chunks={start_idx}–{stop_idx}\")\n",
    "    subprocess.run(command)"
   ]
  },
  {
   "cell_type": "code",
   "execution_count": 12,
   "id": "a8778b0c-5c69-4efe-9787-1798d128769b",
   "metadata": {},
   "outputs": [
    {
     "name": "stdout",
     "output_type": "stream",
     "text": [
      "Submitting Job 1a: z=8–9, chunks=64512–80640\n",
      "Job <145552151> is submitted to default queue <local>.\n"
     ]
    },
    {
     "name": "stderr",
     "output_type": "stream",
     "text": [
      "This job will be billed to mengwang\n"
     ]
    }
   ],
   "source": [
    "resubmit(\"1ba\", 8, 9)"
   ]
  },
  {
   "cell_type": "code",
   "execution_count": 13,
   "id": "5fa2ce00-4367-4a4b-b6ff-19cdb1e5035d",
   "metadata": {},
   "outputs": [
    {
     "name": "stdout",
     "output_type": "stream",
     "text": [
      "Submitting Job 1b: z=10–14, chunks=80640–120960\n",
      "Job <145552369> is submitted to default queue <local>.\n",
      "Submitting Job 1c: z=15–19, chunks=120960–161280\n",
      "Job <145552370> is submitted to default queue <local>.\n",
      "Submitting Job 1d: z=20–24, chunks=161280–201600\n"
     ]
    },
    {
     "name": "stderr",
     "output_type": "stream",
     "text": [
      "This job will be billed to mengwang\n",
      "This job will be billed to mengwang\n",
      "This job will be billed to mengwang\n"
     ]
    },
    {
     "name": "stdout",
     "output_type": "stream",
     "text": [
      "Job <145552371> is submitted to default queue <local>.\n",
      "Submitting Job 1e: z=25–29, chunks=201600–241920\n",
      "Job <145552372> is submitted to default queue <local>.\n",
      "Submitting Job 1f: z=30–34, chunks=241920–282240\n",
      "Job <145552373> is submitted to default queue <local>.\n",
      "Submitting Job 1g: z=35–39, chunks=282240–322560\n"
     ]
    },
    {
     "name": "stderr",
     "output_type": "stream",
     "text": [
      "This job will be billed to mengwang\n",
      "This job will be billed to mengwang\n",
      "This job will be billed to mengwang\n"
     ]
    },
    {
     "name": "stdout",
     "output_type": "stream",
     "text": [
      "Job <145552374> is submitted to default queue <local>.\n",
      "Submitting Job 1h: z=40–44, chunks=322560–362880\n",
      "Job <145552375> is submitted to default queue <local>.\n",
      "Submitting Job 1i: z=45–49, chunks=362880–403200\n",
      "Job <145552376> is submitted to default queue <local>.\n"
     ]
    },
    {
     "name": "stderr",
     "output_type": "stream",
     "text": [
      "This job will be billed to mengwang\n",
      "This job will be billed to mengwang\n"
     ]
    }
   ],
   "source": [
    "from string import ascii_lowercase\n",
    "\n",
    "# Starting from z=10 to z=49, in steps of 5\n",
    "z_start = 10\n",
    "z_end = 49\n",
    "chunk_size = 5\n",
    "\n",
    "for i, z in enumerate(range(z_start, z_end + 1, chunk_size)):\n",
    "    job_suffix = ascii_lowercase[i + 1]  # start from 'b', since 'a' was already used\n",
    "    job_name = f\"1{job_suffix}\"\n",
    "    start_z = z\n",
    "    stop_z = min(z + chunk_size - 1, z_end)\n",
    "    resubmit(job_name, start_z, stop_z)"
   ]
  },
  {
   "cell_type": "code",
   "execution_count": 15,
   "id": "212a4ca4-ec97-4c4f-9c1c-61a83e3a21c7",
   "metadata": {},
   "outputs": [
    {
     "name": "stdout",
     "output_type": "stream",
     "text": [
      "Submitting Job 2a: z=60–64, chunks=483840–524160\n",
      "Job <145552927> is submitted to default queue <local>.\n",
      "Submitting Job 2b: z=65–69, chunks=524160–564480\n",
      "Job <145552928> is submitted to default queue <local>.\n",
      "Submitting Job 2c: z=70–74, chunks=564480–604800\n"
     ]
    },
    {
     "name": "stderr",
     "output_type": "stream",
     "text": [
      "This job will be billed to mengwang\n",
      "This job will be billed to mengwang\n",
      "This job will be billed to mengwang\n"
     ]
    },
    {
     "name": "stdout",
     "output_type": "stream",
     "text": [
      "Job <145552929> is submitted to default queue <local>.\n",
      "Submitting Job 2d: z=75–79, chunks=604800–645120\n",
      "Job <145552930> is submitted to default queue <local>.\n",
      "Submitting Job 2e: z=80–84, chunks=645120–685440\n",
      "Job <145552931> is submitted to default queue <local>.\n",
      "Submitting Job 2f: z=85–89, chunks=685440–725760\n"
     ]
    },
    {
     "name": "stderr",
     "output_type": "stream",
     "text": [
      "This job will be billed to mengwang\n",
      "This job will be billed to mengwang\n",
      "This job will be billed to mengwang\n"
     ]
    },
    {
     "name": "stdout",
     "output_type": "stream",
     "text": [
      "Job <145552932> is submitted to default queue <local>.\n",
      "Submitting Job 2g: z=90–94, chunks=725760–766080\n",
      "Job <145552933> is submitted to default queue <local>.\n",
      "Submitting Job 2h: z=95–99, chunks=766080–806400\n",
      "Job <145552934> is submitted to default queue <local>.\n",
      "Submitting Job 2i: z=100–100, chunks=806400–814464\n",
      "Job <145552935> is submitted to default queue <local>.\n"
     ]
    },
    {
     "name": "stderr",
     "output_type": "stream",
     "text": [
      "This job will be billed to mengwang\n",
      "This job will be billed to mengwang\n",
      "This job will be billed to mengwang\n"
     ]
    }
   ],
   "source": [
    "from string import ascii_lowercase\n",
    "\n",
    "z_start = 60\n",
    "z_end = 100\n",
    "chunk_size = 5\n",
    "\n",
    "for i, z in enumerate(range(z_start, z_end + 1, chunk_size)):\n",
    "    job_suffix = ascii_lowercase[i]  # start from 'a'\n",
    "    job_name = f\"2{job_suffix}\"\n",
    "    start_z = z\n",
    "    stop_z = min(z + chunk_size - 1, z_end)\n",
    "    resubmit(job_name, start_z, stop_z)"
   ]
  },
  {
   "cell_type": "code",
   "execution_count": 16,
   "id": "5d2f3385-18b0-4460-a1bc-9f3d8f7e1ede",
   "metadata": {},
   "outputs": [
    {
     "name": "stdout",
     "output_type": "stream",
     "text": [
      "Submitting Job 3a: z=112–116, chunks=903168–943488\n",
      "Job <145553231> is submitted to default queue <local>.\n",
      "Submitting Job 3b: z=117–121, chunks=943488–983808\n",
      "Job <145553232> is submitted to default queue <local>.\n",
      "Submitting Job 3c: z=122–126, chunks=983808–1024128\n"
     ]
    },
    {
     "name": "stderr",
     "output_type": "stream",
     "text": [
      "This job will be billed to mengwang\n",
      "This job will be billed to mengwang\n",
      "This job will be billed to mengwang\n"
     ]
    },
    {
     "name": "stdout",
     "output_type": "stream",
     "text": [
      "Job <145553233> is submitted to default queue <local>.\n",
      "Submitting Job 3d: z=127–131, chunks=1024128–1064448\n",
      "Job <145553234> is submitted to default queue <local>.\n",
      "Submitting Job 3e: z=132–136, chunks=1064448–1104768\n",
      "Job <145553235> is submitted to default queue <local>.\n",
      "Submitting Job 3f: z=137–141, chunks=1104768–1145088\n"
     ]
    },
    {
     "name": "stderr",
     "output_type": "stream",
     "text": [
      "This job will be billed to mengwang\n",
      "This job will be billed to mengwang\n",
      "This job will be billed to mengwang\n"
     ]
    },
    {
     "name": "stdout",
     "output_type": "stream",
     "text": [
      "Job <145553236> is submitted to default queue <local>.\n",
      "Submitting Job 3g: z=142–146, chunks=1145088–1185408\n",
      "Job <145553237> is submitted to default queue <local>.\n",
      "Submitting Job 3h: z=147–150, chunks=1185408–1217664\n",
      "Job <145553238> is submitted to default queue <local>.\n"
     ]
    },
    {
     "name": "stderr",
     "output_type": "stream",
     "text": [
      "This job will be billed to mengwang\n",
      "This job will be billed to mengwang\n"
     ]
    }
   ],
   "source": [
    "from string import ascii_lowercase\n",
    "\n",
    "z_start = 112\n",
    "z_end = 150\n",
    "chunk_size = 5\n",
    "\n",
    "for i, z in enumerate(range(z_start, z_end + 1, chunk_size)):\n",
    "    job_suffix = ascii_lowercase[i]  # start from 'a'\n",
    "    job_name = f\"3{job_suffix}\"\n",
    "    start_z = z\n",
    "    stop_z = min(z + chunk_size - 1, z_end)\n",
    "    resubmit(job_name, start_z, stop_z)"
   ]
  },
  {
   "cell_type": "code",
   "execution_count": 17,
   "id": "8fad913a-b9b0-4abd-9fc8-a84ea87bdf79",
   "metadata": {},
   "outputs": [
    {
     "name": "stdout",
     "output_type": "stream",
     "text": [
      "Submitting Job 4a: z=162–166, chunks=1306368–1346688\n",
      "Job <145553242> is submitted to default queue <local>.\n",
      "Submitting Job 4b: z=167–171, chunks=1346688–1387008\n",
      "Job <145553243> is submitted to default queue <local>.\n",
      "Submitting Job 4c: z=172–176, chunks=1387008–1427328\n"
     ]
    },
    {
     "name": "stderr",
     "output_type": "stream",
     "text": [
      "This job will be billed to mengwang\n",
      "This job will be billed to mengwang\n",
      "This job will be billed to mengwang\n"
     ]
    },
    {
     "name": "stdout",
     "output_type": "stream",
     "text": [
      "Job <145553244> is submitted to default queue <local>.\n",
      "Submitting Job 4d: z=177–181, chunks=1427328–1467648\n",
      "Job <145553245> is submitted to default queue <local>.\n",
      "Submitting Job 4e: z=182–186, chunks=1467648–1507968\n",
      "Job <145553246> is submitted to default queue <local>.\n",
      "Submitting Job 4f: z=187–191, chunks=1507968–1548288\n"
     ]
    },
    {
     "name": "stderr",
     "output_type": "stream",
     "text": [
      "This job will be billed to mengwang\n",
      "This job will be billed to mengwang\n",
      "This job will be billed to mengwang\n"
     ]
    },
    {
     "name": "stdout",
     "output_type": "stream",
     "text": [
      "Job <145553247> is submitted to default queue <local>.\n",
      "Submitting Job 4g: z=192–196, chunks=1548288–1588608\n",
      "Job <145553248> is submitted to default queue <local>.\n",
      "Submitting Job 4h: z=197–201, chunks=1588608–1628928\n",
      "Job <145553249> is submitted to default queue <local>.\n"
     ]
    },
    {
     "name": "stderr",
     "output_type": "stream",
     "text": [
      "This job will be billed to mengwang\n",
      "This job will be billed to mengwang\n"
     ]
    }
   ],
   "source": [
    "from string import ascii_lowercase\n",
    "\n",
    "z_start = 162\n",
    "z_end = 201\n",
    "chunk_size = 5\n",
    "\n",
    "for i, z in enumerate(range(z_start, z_end + 1, chunk_size)):\n",
    "    job_suffix = ascii_lowercase[i]  # start from 'a'\n",
    "    job_name = f\"4{job_suffix}\"\n",
    "    start_z = z\n",
    "    stop_z = min(z + chunk_size - 1, z_end)\n",
    "    resubmit(job_name, start_z, stop_z)"
   ]
  },
  {
   "cell_type": "code",
   "execution_count": 18,
   "id": "5c60f557-86e7-45d8-b397-89fe73d42d00",
   "metadata": {},
   "outputs": [
    {
     "name": "stdout",
     "output_type": "stream",
     "text": [
      "Submitting Job 5a: z=213–217, chunks=1717632–1757952\n",
      "Job <145553253> is submitted to default queue <local>.\n",
      "Submitting Job 5b: z=218–222, chunks=1757952–1798272\n",
      "Job <145553254> is submitted to default queue <local>.\n",
      "Submitting Job 5c: z=223–227, chunks=1798272–1838592\n"
     ]
    },
    {
     "name": "stderr",
     "output_type": "stream",
     "text": [
      "This job will be billed to mengwang\n",
      "This job will be billed to mengwang\n",
      "This job will be billed to mengwang\n"
     ]
    },
    {
     "name": "stdout",
     "output_type": "stream",
     "text": [
      "Job <145553255> is submitted to default queue <local>.\n",
      "Submitting Job 5d: z=228–232, chunks=1838592–1878912\n",
      "Job <145553256> is submitted to default queue <local>.\n",
      "Submitting Job 5e: z=233–237, chunks=1878912–1919232\n",
      "Job <145553257> is submitted to default queue <local>.\n",
      "Submitting Job 5f: z=238–242, chunks=1919232–1959552\n"
     ]
    },
    {
     "name": "stderr",
     "output_type": "stream",
     "text": [
      "This job will be billed to mengwang\n",
      "This job will be billed to mengwang\n",
      "This job will be billed to mengwang\n"
     ]
    },
    {
     "name": "stdout",
     "output_type": "stream",
     "text": [
      "Job <145553258> is submitted to default queue <local>.\n",
      "Submitting Job 5g: z=243–247, chunks=1959552–1999872\n",
      "Job <145553259> is submitted to default queue <local>.\n",
      "Submitting Job 5h: z=248–252, chunks=1999872–2040192\n",
      "Job <145553260> is submitted to default queue <local>.\n"
     ]
    },
    {
     "name": "stderr",
     "output_type": "stream",
     "text": [
      "This job will be billed to mengwang\n",
      "This job will be billed to mengwang\n"
     ]
    }
   ],
   "source": [
    "from string import ascii_lowercase\n",
    "\n",
    "z_start = 213\n",
    "z_end = 252\n",
    "chunk_size = 5\n",
    "\n",
    "for i, z in enumerate(range(z_start, z_end + 1, chunk_size)):\n",
    "    job_suffix = ascii_lowercase[i]  # start from 'a'\n",
    "    job_name = f\"5{job_suffix}\"\n",
    "    start_z = z\n",
    "    stop_z = min(z + chunk_size - 1, z_end)\n",
    "    resubmit(job_name, start_z, stop_z)"
   ]
  },
  {
   "cell_type": "code",
   "execution_count": 19,
   "id": "4d6af109-cd7b-4f52-a11a-c05a72929c5d",
   "metadata": {},
   "outputs": [
    {
     "name": "stdout",
     "output_type": "stream",
     "text": [
      "Submitting Job 6a: z=264–268, chunks=2128896–2169216\n",
      "Job <145553261> is submitted to default queue <local>.\n",
      "Submitting Job 6b: z=269–273, chunks=2169216–2209536\n",
      "Job <145553262> is submitted to default queue <local>.\n",
      "Submitting Job 6c: z=274–278, chunks=2209536–2249856\n"
     ]
    },
    {
     "name": "stderr",
     "output_type": "stream",
     "text": [
      "This job will be billed to mengwang\n",
      "This job will be billed to mengwang\n",
      "This job will be billed to mengwang\n"
     ]
    },
    {
     "name": "stdout",
     "output_type": "stream",
     "text": [
      "Job <145553263> is submitted to default queue <local>.\n",
      "Submitting Job 6d: z=279–283, chunks=2249856–2290176\n",
      "Job <145553264> is submitted to default queue <local>.\n",
      "Submitting Job 6e: z=284–288, chunks=2290176–2330496\n",
      "Job <145553265> is submitted to default queue <local>.\n",
      "Submitting Job 6f: z=289–293, chunks=2330496–2370816\n"
     ]
    },
    {
     "name": "stderr",
     "output_type": "stream",
     "text": [
      "This job will be billed to mengwang\n",
      "This job will be billed to mengwang\n",
      "This job will be billed to mengwang\n"
     ]
    },
    {
     "name": "stdout",
     "output_type": "stream",
     "text": [
      "Job <145553266> is submitted to default queue <local>.\n",
      "Submitting Job 6g: z=294–298, chunks=2370816–2411136\n",
      "Job <145553267> is submitted to default queue <local>.\n",
      "Submitting Job 6h: z=299–302, chunks=2411136–2443392\n",
      "Job <145553268> is submitted to default queue <local>.\n"
     ]
    },
    {
     "name": "stderr",
     "output_type": "stream",
     "text": [
      "This job will be billed to mengwang\n",
      "This job will be billed to mengwang\n"
     ]
    }
   ],
   "source": [
    "from string import ascii_lowercase\n",
    "\n",
    "z_start = 264\n",
    "z_end = 302\n",
    "chunk_size = 5\n",
    "\n",
    "for i, z in enumerate(range(z_start, z_end + 1, chunk_size)):\n",
    "    job_suffix = ascii_lowercase[i]  # start from 'a'\n",
    "    job_name = f\"6{job_suffix}\"\n",
    "    start_z = z\n",
    "    stop_z = min(z + chunk_size - 1, z_end)\n",
    "    resubmit(job_name, start_z, stop_z)"
   ]
  },
  {
   "cell_type": "code",
   "execution_count": 20,
   "id": "3dd9a6a9-2460-4387-96fc-35ab449cb4c7",
   "metadata": {},
   "outputs": [
    {
     "name": "stdout",
     "output_type": "stream",
     "text": [
      "Submitting Job 7a: z=314–318, chunks=2532096–2572416\n",
      "Job <145553269> is submitted to default queue <local>.\n",
      "Submitting Job 7b: z=319–323, chunks=2572416–2612736\n",
      "Job <145553270> is submitted to default queue <local>.\n",
      "Submitting Job 7c: z=324–328, chunks=2612736–2653056\n"
     ]
    },
    {
     "name": "stderr",
     "output_type": "stream",
     "text": [
      "This job will be billed to mengwang\n",
      "This job will be billed to mengwang\n",
      "This job will be billed to mengwang\n"
     ]
    },
    {
     "name": "stdout",
     "output_type": "stream",
     "text": [
      "Job <145553271> is submitted to default queue <local>.\n",
      "Submitting Job 7d: z=329–333, chunks=2653056–2693376\n",
      "Job <145553272> is submitted to default queue <local>.\n",
      "Submitting Job 7e: z=334–338, chunks=2693376–2733696\n",
      "Job <145553273> is submitted to default queue <local>.\n",
      "Submitting Job 7f: z=339–343, chunks=2733696–2774016\n"
     ]
    },
    {
     "name": "stderr",
     "output_type": "stream",
     "text": [
      "This job will be billed to mengwang\n",
      "This job will be billed to mengwang\n",
      "This job will be billed to mengwang\n"
     ]
    },
    {
     "name": "stdout",
     "output_type": "stream",
     "text": [
      "Job <145553274> is submitted to default queue <local>.\n",
      "Submitting Job 7g: z=344–348, chunks=2774016–2814336\n",
      "Job <145553275> is submitted to default queue <local>.\n",
      "Submitting Job 7h: z=349–353, chunks=2814336–2854656\n",
      "Job <145553276> is submitted to default queue <local>.\n"
     ]
    },
    {
     "name": "stderr",
     "output_type": "stream",
     "text": [
      "This job will be billed to mengwang\n",
      "This job will be billed to mengwang\n"
     ]
    }
   ],
   "source": [
    "from string import ascii_lowercase\n",
    "\n",
    "z_start = 314\n",
    "z_end = 353\n",
    "chunk_size = 5\n",
    "\n",
    "for i, z in enumerate(range(z_start, z_end + 1, chunk_size)):\n",
    "    job_suffix = ascii_lowercase[i]  # start from 'a'\n",
    "    job_name = f\"7{job_suffix}\"\n",
    "    start_z = z\n",
    "    stop_z = min(z + chunk_size - 1, z_end)\n",
    "    resubmit(job_name, start_z, stop_z)"
   ]
  },
  {
   "cell_type": "code",
   "execution_count": 21,
   "id": "d82c8afd-84d5-44ba-840a-b091ea61ceca",
   "metadata": {},
   "outputs": [
    {
     "name": "stdout",
     "output_type": "stream",
     "text": [
      "Submitting Job 8a: z=365–369, chunks=2943360–2983680\n",
      "Job <145553283> is submitted to default queue <local>.\n",
      "Submitting Job 8b: z=370–374, chunks=2983680–3024000\n",
      "Job <145553284> is submitted to default queue <local>.\n",
      "Submitting Job 8c: z=375–379, chunks=3024000–3064320\n"
     ]
    },
    {
     "name": "stderr",
     "output_type": "stream",
     "text": [
      "This job will be billed to mengwang\n",
      "This job will be billed to mengwang\n",
      "This job will be billed to mengwang\n"
     ]
    },
    {
     "name": "stdout",
     "output_type": "stream",
     "text": [
      "Job <145553285> is submitted to default queue <local>.\n",
      "Submitting Job 8d: z=380–384, chunks=3064320–3104640\n",
      "Job <145553286> is submitted to default queue <local>.\n",
      "Submitting Job 8e: z=385–389, chunks=3104640–3144960\n",
      "Job <145553287> is submitted to default queue <local>.\n",
      "Submitting Job 8f: z=390–394, chunks=3144960–3185280\n"
     ]
    },
    {
     "name": "stderr",
     "output_type": "stream",
     "text": [
      "This job will be billed to mengwang\n",
      "This job will be billed to mengwang\n",
      "This job will be billed to mengwang\n"
     ]
    },
    {
     "name": "stdout",
     "output_type": "stream",
     "text": [
      "Job <145553288> is submitted to default queue <local>.\n",
      "Submitting Job 8g: z=395–399, chunks=3185280–3225600\n",
      "Job <145553289> is submitted to default queue <local>.\n",
      "Submitting Job 8h: z=400–404, chunks=3225600–3265920\n",
      "Job <145553290> is submitted to default queue <local>.\n",
      "Submitting Job 8i: z=405–405, chunks=3265920–3273984\n",
      "Job <145553291> is submitted to default queue <local>.\n"
     ]
    },
    {
     "name": "stderr",
     "output_type": "stream",
     "text": [
      "This job will be billed to mengwang\n",
      "This job will be billed to mengwang\n",
      "This job will be billed to mengwang\n"
     ]
    }
   ],
   "source": [
    "from string import ascii_lowercase\n",
    "\n",
    "z_start = 365\n",
    "z_end = 405\n",
    "chunk_size = 5\n",
    "\n",
    "for i, z in enumerate(range(z_start, z_end + 1, chunk_size)):\n",
    "    job_suffix = ascii_lowercase[i]  # start from 'a'\n",
    "    job_name = f\"8{job_suffix}\"\n",
    "    start_z = z\n",
    "    stop_z = min(z + chunk_size - 1, z_end)\n",
    "    resubmit(job_name, start_z, stop_z)"
   ]
  },
  {
   "cell_type": "code",
   "execution_count": null,
   "id": "33bdfcc3-a814-44f1-b3dc-708f6485af72",
   "metadata": {},
   "outputs": [],
   "source": []
  },
  {
   "cell_type": "code",
   "execution_count": null,
   "id": "18806624-a31a-4b48-8ff7-ecad2f2b51d4",
   "metadata": {},
   "outputs": [],
   "source": []
  },
  {
   "cell_type": "markdown",
   "id": "2ca843cc-4ab9-4ddc-8730-6d80cd59d8b0",
   "metadata": {},
   "source": [
    "0-8: within 8 up to 58\n",
    "50-60: within 60 up to 44\n",
    "101-112: within 112 up to 26\n",
    "151-162: within 162 up to 83\n",
    "202-213: within 213 up to 51\n",
    "253-264: within 264 up to 11\n",
    "303-314: within 314 up to 75\n",
    "354-365: within 365 up to 35\n",
    "\n",
    "| Z-slice | Start Chunk Index                |\n",
    "| ------- | -------------------------------- |\n",
    "| 8       | 64,512                           |\n",
    "| 60      | 483,840                          |\n",
    "| 112     | 903,168                          |\n",
    "| 162     | 1,306,368                        |\n",
    "| 213     | 1,717,632                        |\n",
    "| 264     | 2,128,896                        |\n",
    "| 314     | 2,532,096                        |\n",
    "| 365     | 2,943,360                        |\n",
    "\n",
    "(tensorswitch) [jupyterhub - chend@e06u07]~/temp/downsample_script/tensorswitch>python z_to_chunk_index.py /nrs/mengwang/jrc_celegans_lipl-4_Ariadne_Zarr/Dataset_B_lipl-4Tg/Dataset_B_nuclei_2/ulula2_nuclei 8\n",
    "Volume shape: (z=25860, y=6124, x=5328)\n",
    "Chunks per z-slice: 8064\n",
    "Z-slice 8 → Start chunk index: 64512\n",
    "(tensorswitch) [jupyterhub - chend@e06u07]~/temp/downsample_script/tensorswitch>python z_to_chunk_index.py /nrs/mengwang/jrc_celegans_lipl-4_Ariadne_Zarr/Dataset_B_lipl-4Tg/Dataset_B_nuclei_2/ulula2_nuclei 60\n",
    "Volume shape: (z=25860, y=6124, x=5328)\n",
    "Chunks per z-slice: 8064\n",
    "Z-slice 60 → Start chunk index: 483840\n",
    "(tensorswitch) [jupyterhub - chend@e06u07]~/temp/downsample_script/tensorswitch>python z_to_chunk_index.py /nrs/mengwang/jrc_celegans_lipl-4_Ariadne_Zarr/Dataset_B_lipl-4Tg/Dataset_B_nuclei_2/ulula2_nuclei 112\n",
    "Volume shape: (z=25860, y=6124, x=5328)\n",
    "Chunks per z-slice: 8064\n",
    "Z-slice 112 → Start chunk index: 903168\n",
    "(tensorswitch) [jupyterhub - chend@e06u07]~/temp/downsample_script/tensorswitch>python z_to_chunk_index.py /nrs/mengwang/jrc_celegans_lipl-4_Ariadne_Zarr/Dataset_B_lipl-4Tg/Dataset_B_nuclei_2/ulula2_nuclei 162\n",
    "Volume shape: (z=25860, y=6124, x=5328)\n",
    "Chunks per z-slice: 8064\n",
    "Z-slice 162 → Start chunk index: 1306368\n",
    "(tensorswitch) [jupyterhub - chend@e06u07]~/temp/downsample_script/tensorswitch>python z_to_chunk_index.py /nrs/mengwang/jrc_celegans_lipl-4_Ariadne_Zarr/Dataset_B_lipl-4Tg/Dataset_B_nuclei_2/ulula2_nuclei 213\n",
    "Volume shape: (z=25860, y=6124, x=5328)\n",
    "Chunks per z-slice: 8064\n",
    "Z-slice 213 → Start chunk index: 1717632\n",
    "(tensorswitch) [jupyterhub - chend@e06u07]~/temp/downsample_script/tensorswitch>python z_to_chunk_index.py /nrs/mengwang/jrc_celegans_lipl-4_Ariadne_Zarr/Dataset_B_lipl-4Tg/Dataset_B_nuclei_2/ulula2_nuclei 264\n",
    "Volume shape: (z=25860, y=6124, x=5328)\n",
    "Chunks per z-slice: 8064\n",
    "Z-slice 264 → Start chunk index: 2128896\n",
    "(tensorswitch) [jupyterhub - chend@e06u07]~/temp/downsample_script/tensorswitch>python z_to_chunk_index.py /nrs/mengwang/jrc_celegans_lipl-4_Ariadne_Zarr/Dataset_B_lipl-4Tg/Dataset_B_nuclei_2/ulula2_nuclei 314\n",
    "Volume shape: (z=25860, y=6124, x=5328)\n",
    "Chunks per z-slice: 8064\n",
    "Z-slice 314 → Start chunk index: 2532096\n",
    "(tensorswitch) [jupyterhub - chend@e06u07]~/temp/downsample_script/tensorswitch>python z_to_chunk_index.py /nrs/mengwang/jrc_celegans_lipl-4_Ariadne_Zarr/Dataset_B_lipl-4Tg/Dataset_B_nuclei_2/ulula2_nuclei 365\n",
    "Volume shape: (z=25860, y=6124, x=5328)\n",
    "Chunks per z-slice: 8064\n",
    "Z-slice 365 → Start chunk index: 2943360"
   ]
  },
  {
   "cell_type": "code",
   "execution_count": 6,
   "id": "fe99c972-8dc3-4f10-af52-51741d043890",
   "metadata": {},
   "outputs": [],
   "source": [
    "def resubmit(job_number, start_idx, stop_idx):\n",
    "    command = ['bsub',\n",
    "     '-J',\n",
    "     f'tiff_to_zarr3_s0_vol{job_number}',\n",
    "     '-n',\n",
    "     '24',\n",
    "     '-W',\n",
    "     '24:00',\n",
    "     '-P',\n",
    "     'mengwang',\n",
    "     '-g',\n",
    "     '/scicompsoft/chend/tensorstore',\n",
    "     '-o',\n",
    "     f'/groups/scicompsoft/home/chend/temp/downsample_script/tensorswitch/output/output__vol{job_number}_%J.log',\n",
    "     '-e',\n",
    "     f'/groups/scicompsoft/home/chend/temp/downsample_script/tensorswitch/output/error_vol{job_number}_%J.log',\n",
    "     '/groups/scicompsoft/home/chend/temp/downsample_script/tensorswitch/.pixi/envs/default/bin/python',\n",
    "     '-m',\n",
    "     'tensorswitch',\n",
    "     '--task',\n",
    "     'tiff_to_zarr3_s0',\n",
    "     '--base_path',\n",
    "     '/nrs/mengwang/jrc_celegans_lipl-4_Ariadne_Zarr/Dataset_B_lipl-4Tg/Dataset_B_nuclei_2/ulula2_nuclei',\n",
    "     '--output_path',\n",
    "     '/nrs/mengwang/jrc_celegans_lipl-4_Ariadne_Zarr/Dataset_B_lipl-4Tg/Dataset_B_nuclei_2/ulula2_nuclei/multiscale/s0',\n",
    "     '--level',\n",
    "     '0',\n",
    "     '--downsample',\n",
    "     '1',\n",
    "     '--use_shard',\n",
    "     '0',\n",
    "     '--memory_limit',\n",
    "     '50',\n",
    "     '--start_idx',\n",
    "     str(start_idx),\n",
    "     '--stop_idx',\n",
    "     str(stop_idx)\n",
    "    ]\n",
    "    print(command)\n",
    "    subprocess.run(command)"
   ]
  },
  {
   "cell_type": "code",
   "execution_count": null,
   "id": "a2cad350-1809-417d-9d04-4edd560c3f08",
   "metadata": {},
   "outputs": [],
   "source": [
    "resubmit(2a,483840,516096)"
   ]
  },
  {
   "cell_type": "code",
   "execution_count": null,
   "id": "69f45df5-0e14-4c56-bd0b-e0aacdf20630",
   "metadata": {},
   "outputs": [],
   "source": [
    "64512 - 385452"
   ]
  }
 ],
 "metadata": {
  "kernelspec": {
   "display_name": "TensorSwitch",
   "language": "python",
   "name": "tensorswitch"
  },
  "language_info": {
   "codemirror_mode": {
    "name": "ipython",
    "version": 3
   },
   "file_extension": ".py",
   "mimetype": "text/x-python",
   "name": "python",
   "nbconvert_exporter": "python",
   "pygments_lexer": "ipython3",
   "version": "3.12.11"
  }
 },
 "nbformat": 4,
 "nbformat_minor": 5
}
